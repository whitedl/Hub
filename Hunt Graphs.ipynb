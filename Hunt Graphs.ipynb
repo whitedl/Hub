{
 "cells": [
  {
   "cell_type": "code",
   "execution_count": null,
   "metadata": {},
   "outputs": [],
   "source": [
    "import http\n",
    "from http import client\n",
    "import csv\n",
    "import re\n",
    "import datetime\n",
    "import numpy as np\n",
    "import pandas as pd\n",
    "from time import sleep"
   ]
  },
  {
   "cell_type": "code",
   "execution_count": null,
   "metadata": {},
   "outputs": [],
   "source": [
    "import matplotlib.pyplot as plt\n",
    "import matplotlib.dates as mdates\n",
    "import matplotlib.ticker as ticker\n",
    "from matplotlib.gridspec import GridSpec\n",
    "\n",
    "import matplotlib\n",
    "matplotlib.use('AGG')\n",
    "%matplotlib inline"
   ]
  },
  {
   "cell_type": "code",
   "execution_count": null,
   "metadata": {},
   "outputs": [],
   "source": [
    "SMALL_SIZE = 10\n",
    "MEDIUM_SIZE = 18\n",
    "BIGGER_SIZE = 24\n",
    "\n",
    "plt.rc('font', size=MEDIUM_SIZE)          # controls default text sizes\n",
    "plt.rc('axes', titlesize=BIGGER_SIZE)     # fontsize of the axes title\n",
    "plt.rc('axes', labelsize=MEDIUM_SIZE)    # fontsize of the x and y labels\n",
    "plt.rc('xtick', labelsize=SMALL_SIZE)    # fontsize of the tick labels\n",
    "plt.rc('ytick', labelsize=SMALL_SIZE)    # fontsize of the tick labels\n",
    "plt.rc('legend', fontsize=SMALL_SIZE)    # legend fontsize\n",
    "#plt.rc('figure', titlesize=BIGGER_SIZE)  # fontsize of the figure title\n"
   ]
  },
  {
   "cell_type": "code",
   "execution_count": null,
   "metadata": {},
   "outputs": [],
   "source": [
    "pd.set_option('display.max_colwidth', None)\n",
    "pd.set_option('display.max_rows', 5000)\n",
    "pd.set_option('display.max_columns', 5000)"
   ]
  },
  {
   "cell_type": "code",
   "execution_count": null,
   "metadata": {},
   "outputs": [],
   "source": [
    "def get_hashtags(s):\n",
    "    return [i  for i in s.split() if i.startswith(\"#\") ]"
   ]
  },
  {
   "cell_type": "code",
   "execution_count": null,
   "metadata": {},
   "outputs": [],
   "source": [
    "from wordcloud import WordCloud,STOPWORDS\n",
    "\n",
    "stopwords= set(STOPWORDS)\n",
    "\n",
    "new_stopwords=stopwords.union({'RT\\'','Follow\\'', 'https','co','amp'})\n",
    "wc = WordCloud(width=800, \n",
    "               height=400,\n",
    "               max_font_size=100, \n",
    "               max_words=40,\n",
    "               stopwords=new_stopwords,\n",
    "               background_color='black',\n",
    "               normalize_plurals= True,\n",
    "              collocations=False)"
   ]
  },
  {
   "cell_type": "markdown",
   "metadata": {},
   "source": [
    "# Actual Hunt  -- User Approach"
   ]
  },
  {
   "cell_type": "markdown",
   "metadata": {},
   "source": [
    "## Load Hunt Data"
   ]
  },
  {
   "cell_type": "code",
   "execution_count": null,
   "metadata": {},
   "outputs": [],
   "source": [
    "cd /scratch2/pwarren/hunt/"
   ]
  },
  {
   "cell_type": "code",
   "execution_count": null,
   "metadata": {},
   "outputs": [],
   "source": [
    "stem='blackhammer_Nov8'"
   ]
  },
  {
   "cell_type": "code",
   "execution_count": null,
   "metadata": {},
   "outputs": [],
   "source": [
    "social_studio_tweets=pd.read_csv(stem+'.csv', sep=',', dtype=str)"
   ]
  },
  {
   "cell_type": "code",
   "execution_count": null,
   "metadata": {},
   "outputs": [],
   "source": [
    "#ss2=pd.read_csv('#raisethedegree_0530.csv', sep=',', dtype=str)\n",
    "#social_studio_tweets=social_studio_tweets.append(ss2)"
   ]
  },
  {
   "cell_type": "code",
   "execution_count": null,
   "metadata": {},
   "outputs": [],
   "source": [
    "social_studio_tweets['EXTERNAL_AUTHOR_ID'].value_counts(dropna=False).head(4)"
   ]
  },
  {
   "cell_type": "code",
   "execution_count": null,
   "metadata": {},
   "outputs": [],
   "source": [
    "t_counts=social_studio_tweets[['ARTICLE_ID','EXTERNAL_AUTHOR_ID']].groupby('EXTERNAL_AUTHOR_ID').count().reset_index().rename(columns={'ARTICLE_ID':'tweet_count','EXTERNAL_AUTHOR_ID':'id_str'})"
   ]
  },
  {
   "cell_type": "code",
   "execution_count": null,
   "metadata": {},
   "outputs": [],
   "source": [
    "t_counts.sort_values('tweet_count', ascending=False).head(4)"
   ]
  },
  {
   "cell_type": "code",
   "execution_count": null,
   "metadata": {},
   "outputs": [],
   "source": [
    "social_studio_accounts_tomatch=social_studio_tweets[social_studio_tweets['EXTERNAL_AUTHOR_ID'].notnull()]['EXTERNAL_AUTHOR_ID'].drop_duplicates()"
   ]
  },
  {
   "cell_type": "code",
   "execution_count": null,
   "metadata": {},
   "outputs": [],
   "source": [
    "social_studio_accounts_tomatch.shape"
   ]
  },
  {
   "cell_type": "code",
   "execution_count": null,
   "metadata": {},
   "outputs": [],
   "source": [
    "import pickle\n",
    "import json\n",
    "import tweepy\n",
    "import os\n",
    "\n",
    "if not os.path.exists('/home/pwarren/local_trolls/secret_twitter_credentials.pkl'):\n",
    "    Twitter={}\n",
    "    Twitter['Consumer Key'] = '9ILpVsLZsmSe3tPiusnbgytL3'\n",
    "    Twitter['Consumer Secret'] = 'v9083F28IVdXKvE15G4mltyzL5DQXrLczU7osi0ymAPCod5NyS'\n",
    "    Twitter['Access Token'] = '22011162-yFC0NpbGKE8kpRy2RfxIjkaqn7KnGt6d2lsu0mwPw'\n",
    "    Twitter['Access Token Secret'] = '0OSRTGHPiK68bJccbRU6O845fz6qw0Hr0E1gbndxKFWca'\n",
    "    with open('/home/pwarren/local_trolls/secret_twitter_credentials.pkl','wb') as f:\n",
    "        pickle.dump(Twitter, f)\n",
    "else:\n",
    "    Twitter=pickle.load(open('/home/pwarren/local_trolls/secret_twitter_credentials.pkl','rb'))\n",
    "\n",
    "\n",
    "## Authorizing an application to access Twitter account data\n",
    "\n",
    "auth = tweepy.OAuthHandler(Twitter['Consumer Key'], Twitter['Consumer Secret'])\n",
    "auth.set_access_token(Twitter['Access Token'], Twitter['Access Token Secret'])\n",
    "\n",
    "\n",
    "twitter_api = tweepy.API(auth)\n"
   ]
  },
  {
   "cell_type": "markdown",
   "metadata": {},
   "source": [
    "## User Approach"
   ]
  },
  {
   "cell_type": "code",
   "execution_count": null,
   "metadata": {},
   "outputs": [],
   "source": [
    "\n",
    "test =social_studio_accounts_tomatch[0:100].tolist() \n",
    "api_users=twitter_api.lookup_users(test)\n",
    "\n",
    "for i in range(0, len(social_studio_accounts_tomatch), 100):\n",
    "    test=social_studio_accounts_tomatch[i:i+100].tolist()\n",
    "    try: api_users.extend(twitter_api.lookup_users(test))\n",
    "    except tweepy.TweepError:\n",
    "        print ('TweepError')\n",
    "        sleep(30)\n",
    "\n",
    "json_data = [r._json for r in api_users]\n",
    "api_users_pd = pd.json_normalize(json_data)"
   ]
  },
  {
   "cell_type": "code",
   "execution_count": null,
   "metadata": {},
   "outputs": [],
   "source": [
    "api_users_pd = pd.json_normalize(json_data)"
   ]
  },
  {
   "cell_type": "code",
   "execution_count": null,
   "metadata": {},
   "outputs": [],
   "source": [
    "#json_data = [r._json for r in api_users]\n",
    "#api_users_pd = pd.json_normalize(json_data)"
   ]
  },
  {
   "cell_type": "code",
   "execution_count": null,
   "metadata": {},
   "outputs": [],
   "source": [
    "#api_users_pd=pd.read_json('#GeorgeFloyd_0529_full.json')"
   ]
  },
  {
   "cell_type": "code",
   "execution_count": null,
   "metadata": {},
   "outputs": [],
   "source": [
    "api_users_pd2=api_users_pd.merge(t_counts, on='id_str', how='left')"
   ]
  },
  {
   "cell_type": "code",
   "execution_count": null,
   "metadata": {},
   "outputs": [],
   "source": [
    "api_users_pd2.head(2)"
   ]
  },
  {
   "cell_type": "code",
   "execution_count": null,
   "metadata": {},
   "outputs": [],
   "source": [
    "api_users_pd2[api_users_pd2['tweet_count']>100].shape"
   ]
  },
  {
   "cell_type": "code",
   "execution_count": null,
   "metadata": {},
   "outputs": [],
   "source": [
    "api_users_pd2[api_users_pd2['statuses_count']>50].shape"
   ]
  },
  {
   "cell_type": "code",
   "execution_count": null,
   "metadata": {},
   "outputs": [],
   "source": [
    "api_users_pd2.to_csv(stem+'_users.csv')"
   ]
  },
  {
   "cell_type": "code",
   "execution_count": null,
   "metadata": {},
   "outputs": [],
   "source": [
    "api_users_pd2['anyfavorites']=api_users_pd2['status.favorite_count']>0"
   ]
  },
  {
   "cell_type": "code",
   "execution_count": null,
   "metadata": {},
   "outputs": [],
   "source": [
    "api_users_pd2['follower_per_update']=(api_users_pd2['followers_count'])/(api_users_pd2['statuses_count'])"
   ]
  },
  {
   "cell_type": "code",
   "execution_count": null,
   "metadata": {},
   "outputs": [],
   "source": [
    "screen2=((api_users_pd2['verified']==False)\n",
    "        &(api_users_pd2['statuses_count']>100) \n",
    "        &(api_users_pd2['default_profile_image']==False) \n",
    "        &(api_users_pd2['friends_count']>1000) \n",
    "        &(api_users_pd2['statuses_count']<10000) \n",
    "        &(api_users_pd2['follower_per_update']>.75) \n",
    "        &((api_users_pd2['status.source']=='<a href=\"https://about.twitter.com/products/tweetdeck\" rel=\"nofollow\">TweetDeck</a>')|(api_users_pd2['status.source']=='<a href=\"https://mobile.twitter.com\" rel=\"nofollow\">Twitter Web App</a>')|(api_users_pd2['status.source']=='<a href=\"http://twitter.com/download/android\" rel=\"nofollow\">Twitter for Android</a>')) \n",
    "        &(~api_users_pd2['description'].str.contains('marketing', na=False, case=False))\n",
    "        &(~api_users_pd2['description'].str.contains('writ', na=False, case=False))\n",
    "        &(~api_users_pd2['description'].str.contains('business', na=False, case=False))\n",
    "        &(~api_users_pd2['description'].str.contains('author', na=False, case=False))\n",
    "        &(~api_users_pd2['description'].str.contains('profession', na=False, case=False))\n",
    "        &(~api_users_pd2['description'].str.contains('service', na=False, case=False))\n",
    "        &(~api_users_pd2['description'].str.contains('design', na=False, case=False))\n",
    "        )"
   ]
  },
  {
   "cell_type": "code",
   "execution_count": null,
   "metadata": {},
   "outputs": [],
   "source": [
    "screen3=((api_users_pd2['verified']==False)\n",
    "        &(api_users_pd2['statuses_count']>100) \n",
    "        &(api_users_pd2['default_profile_image']==False) \n",
    "        &(api_users_pd2['friends_count']>400) \n",
    "        &(api_users_pd2['statuses_count']<10000) \n",
    "        &((api_users_pd2['follower_per_update']>.75)|(api_users_pd2['status.source']=='<a href=\"https://about.twitter.com/products/tweetdeck\" rel=\"nofollow\">TweetDeck</a>') ) \n",
    "        &((api_users_pd2['status.source']=='<a href=\"https://about.twitter.com/products/tweetdeck\" rel=\"nofollow\">TweetDeck</a>')|(api_users_pd2['status.source']=='<a href=\"https://mobile.twitter.com\" rel=\"nofollow\">Twitter Web App</a>')|(api_users_pd2['status.source']=='<a href=\"http://twitter.com/download/android\" rel=\"nofollow\">Twitter for Android</a>')) \n",
    "        )"
   ]
  },
  {
   "cell_type": "code",
   "execution_count": null,
   "metadata": {},
   "outputs": [],
   "source": [
    "screen_td=((api_users_pd2['verified']==False)\n",
    "        &(api_users_pd2['statuses_count']>100) \n",
    "        &(api_users_pd2['default_profile_image']==False) \n",
    "        &(api_users_pd2['friends_count']>100) \n",
    "        &(api_users_pd2['status.source']=='<a href=\"https://about.twitter.com/products/tweetdeck\" rel=\"nofollow\">TweetDeck</a>') \n",
    "        )"
   ]
  },
  {
   "cell_type": "code",
   "execution_count": null,
   "metadata": {},
   "outputs": [],
   "source": [
    "api_users_pd2['profile']='http://twitter.com/'+api_users_pd2['screen_name']"
   ]
  },
  {
   "cell_type": "code",
   "execution_count": null,
   "metadata": {},
   "outputs": [],
   "source": [
    "print(api_users_pd2[screen3].drop_duplicates(subset=['screen_name'])['profile'].shape)\n",
    "api_users_pd2[screen3].drop_duplicates(subset=['screen_name'])['profile']"
   ]
  },
  {
   "cell_type": "code",
   "execution_count": null,
   "metadata": {},
   "outputs": [],
   "source": [
    "timing_names=api_users_pd2[screen3].drop_duplicates(subset=['screen_name'])['screen_name'].reset_index(drop=True)"
   ]
  },
  {
   "cell_type": "code",
   "execution_count": null,
   "metadata": {},
   "outputs": [],
   "source": [
    "\n",
    "timing_names"
   ]
  },
  {
   "cell_type": "code",
   "execution_count": null,
   "metadata": {},
   "outputs": [],
   "source": []
  },
  {
   "cell_type": "markdown",
   "metadata": {},
   "source": [
    "## Simple Timing Graphs"
   ]
  },
  {
   "cell_type": "code",
   "execution_count": null,
   "metadata": {},
   "outputs": [],
   "source": []
  },
  {
   "cell_type": "code",
   "execution_count": null,
   "metadata": {},
   "outputs": [],
   "source": []
  },
  {
   "cell_type": "code",
   "execution_count": null,
   "metadata": {},
   "outputs": [],
   "source": [
    "# API Pull\n",
    "timing_tweets=[]\n",
    "for timing_name in timing_names:\n",
    "    try:timing_tweets.extend(twitter_api.user_timeline(screen_name=timing_name, count=200))\n",
    "    except: print('Error: '+timing_name)\n",
    "json_data2 = [r._json for r in timing_tweets]\n",
    "timing_tweets_pd = pd.json_normalize(json_data2)"
   ]
  },
  {
   "cell_type": "code",
   "execution_count": null,
   "metadata": {},
   "outputs": [],
   "source": [
    "#json_data2 = [r._json for r in timing_tweets]\n",
    "#timing_tweets_pd = pd.json_normalize(json_data2)"
   ]
  },
  {
   "cell_type": "code",
   "execution_count": null,
   "metadata": {},
   "outputs": [],
   "source": [
    "timing_tweets_pd.shape"
   ]
  },
  {
   "cell_type": "code",
   "execution_count": null,
   "metadata": {},
   "outputs": [],
   "source": [
    "timing_tweets_pd.head(1)"
   ]
  },
  {
   "cell_type": "code",
   "execution_count": null,
   "metadata": {},
   "outputs": [],
   "source": [
    "## Calculate stats for visualization\n",
    "\n",
    "timing_tweets_pd['date_time']=pd.to_datetime(timing_tweets_pd['created_at'], format=\"%a %b %d %H:%M:%S +0000 %Y\")\n",
    "timing_tweets_pd['date']=timing_tweets_pd['date_time'].dt.normalize()\n",
    "#timing_tweets_pd['month']=timing_tweets_pd['date_time'].dt.month\n",
    "#timing_tweets_pd['week']=timing_tweets_pd['date_time'].dt.week\n",
    "#timing_tweets_pd['year']=timing_tweets_pd['date_time'].dt.year\n",
    "timing_tweets_pd['hour']=timing_tweets_pd['date_time'].dt.hour\n",
    "timing_tweets_pd['hashtags']=timing_tweets_pd['text'].apply(get_hashtags)\n",
    "timing_tweets_pd['birthday']=pd.to_datetime(timing_tweets_pd['user.created_at'], format=\"%a %b %d %H:%M:%S +0000 %Y\")"
   ]
  },
  {
   "cell_type": "code",
   "execution_count": null,
   "metadata": {},
   "outputs": [],
   "source": [
    "timing_tweets_pd['odd_emoji_iphone']=timing_tweets_pd['text'].str.contains('👇',na=False)|timing_tweets_pd['text'].str.contains('😄',na=False)|timing_tweets_pd['text'].str.contains('🔴',na=False)|timing_tweets_pd['text'].str.contains('🚨',na=False)|timing_tweets_pd['text'].str.contains('➕',na=False)\n",
    "timing_tweets_pd['odd_emoji_ipad']=timing_tweets_pd['text'].str.contains('😏',na=False)|timing_tweets_pd['text'].str.contains('👏',na=False)|timing_tweets_pd['text'].str.contains('🔴',na=False)|timing_tweets_pd['text'].str.contains('🚨',na=False)|timing_tweets_pd['text'].str.contains('➕',na=False)|timing_tweets_pd['text'].str.contains('👏',na=False)|timing_tweets_pd['text'].str.contains('🔴',na=False)|timing_tweets_pd['text'].str.contains('🚨',na=False)|timing_tweets_pd['text'].str.contains('😍',na=False)\n",
    "timing_tweets_pd['odd_emoji_android']=timing_tweets_pd['text'].str.contains('🔴',na=False)|timing_tweets_pd['text'].str.contains('➕',na=False)\n"
   ]
  },
  {
   "cell_type": "code",
   "execution_count": null,
   "metadata": {},
   "outputs": [],
   "source": [
    "timing_tweets_pd['iphone']=timing_tweets_pd['source'].str.contains('<a href=\"http://twitter.com/download/iphone\" rel=\"nofollow\">Twitter for iPhone</a>',na=False)\n",
    "timing_tweets_pd['ipad']=(timing_tweets_pd['source'].str.contains('<a href=\"http://twitter.com/#!/download/ipad\" rel=\"nofollow\">Twitter for iPad</a>',na=False))\n",
    "timing_tweets_pd['android']=(timing_tweets_pd['source'].str.contains('<a href=\"http://twitter.com/download/android\" rel=\"nofollow\">Twitter for Android</a>',na=False)) "
   ]
  },
  {
   "cell_type": "code",
   "execution_count": null,
   "metadata": {},
   "outputs": [],
   "source": [
    "timing_tweets_pd['odd_emoji']=((timing_tweets_pd['odd_emoji_iphone']&timing_tweets_pd['iphone'])\n",
    "            |(timing_tweets_pd['odd_emoji_android']&timing_tweets_pd['android'])\n",
    "            |(timing_tweets_pd['odd_emoji_ipad']&timing_tweets_pd['ipad'])\n",
    "            )&(timing_tweets_pd['retweeted_status.id_str'].isnull())"
   ]
  },
  {
   "cell_type": "code",
   "execution_count": null,
   "metadata": {},
   "outputs": [],
   "source": [
    "timing_tweets_list=timing_tweets_pd.groupby('user.screen_name')[['date','birthday','user.followers_count','user.friends_count','odd_emoji']].agg(first_date=('date','min'), last_date=('date','max'),birthday=('birthday','first'),following_count=('user.friends_count','first'),follower_count=('user.followers_count','first'),tweet_count=('date','count'),odd_emoji=('odd_emoji','sum')).reset_index()\n",
    "timing_tweets_list.sort_values('birthday', inplace=True)\n",
    "timing_tweets_list['days']=(timing_tweets_list['last_date']-timing_tweets_list['first_date'])/np.timedelta64(1, 'D')+1"
   ]
  },
  {
   "cell_type": "code",
   "execution_count": null,
   "metadata": {},
   "outputs": [],
   "source": [
    "# Create distribution across hour of day and client, present hashtags, and some account state\n",
    "# 100 Accounts per file\n",
    "# I would love to make this a pdf with clickable links to account, but I can't figure out how \n",
    "#\n",
    "\n",
    "hours=[0,1,2,3,4,5,6,7,8,9,10,11,12,13,14,15,16,17,18,19,20,21,22,23,24]\n",
    "\n",
    "for j in range(0,len(timing_tweets_list['user.screen_name']),100):\n",
    "    account_list=timing_tweets_list['user.screen_name'][j:j+100].reset_index(drop=True)\n",
    "    days=timing_tweets_list['days'][j:j+100].reset_index(drop=True)\n",
    "    tweets=timing_tweets_list['tweet_count'][j:j+100].reset_index(drop=True)\n",
    "    fols=timing_tweets_list['follower_count'][j:j+100].reset_index(drop=True)\n",
    "    odd=timing_tweets_list['odd_emoji'][j:j+100].reset_index(drop=True)\n",
    "    \n",
    "    #description_list=timing_tweets_pd[['user.screen_name','user.description']].drop_duplicates()['user.description'][j:j+100].reset_index(drop=True)\n",
    "    fig, ax=plt.subplots(len(account_list),2,figsize=(10,(4*len(account_list))))\n",
    "    \n",
    "    for i in range(0,len(account_list)):\n",
    "        for type in (timing_tweets_pd[timing_tweets_pd['user.screen_name']==account_list[i]]['source'].drop_duplicates()):\n",
    "            if type=='<a href=\"https://about.twitter.com/products/tweetdeck\" rel=\"nofollow\">TweetDeck</a>':\n",
    "                ax[i,0].hist(timing_tweets_pd[(timing_tweets_pd['user.screen_name']==account_list[i])&(timing_tweets_pd['source']==type)]['hour'], hours ,alpha=.7, label=type, color='red')\n",
    "            elif type=='<a href=\"https://mobile.twitter.com\" rel=\"nofollow\">Twitter Web App</a>': \n",
    "                ax[i,0].hist(timing_tweets_pd[(timing_tweets_pd['user.screen_name']==account_list[i])&(timing_tweets_pd['source']==type)]['hour'], hours ,alpha=.7, label=type, color='skyblue')\n",
    "            elif type=='<a href=\"http://twitter.com/download/android\" rel=\"nofollow\">Twitter for Android</a>': \n",
    "                ax[i,0].hist(timing_tweets_pd[(timing_tweets_pd['user.screen_name']==account_list[i])&(timing_tweets_pd['source']==type)]['hour'], hours ,alpha=.7, label=type, color='orange')\n",
    "            elif type=='<a href=\"http://twitter.com\" rel=\"nofollow\">Twitter Web Client</a>': \n",
    "                ax[i,0].hist(timing_tweets_pd[(timing_tweets_pd['user.screen_name']==account_list[i])&(timing_tweets_pd['source']==type)]['hour'], hours ,alpha=.7, label=type, color='lightgreen')\n",
    "            elif type=='<a href=\"http://twitter.com/download/iphone\" rel=\"nofollow\">Twitter for iPhone</a>': \n",
    "                ax[i,0].hist(timing_tweets_pd[(timing_tweets_pd['user.screen_name']==account_list[i])&(timing_tweets_pd['source']==type)]['hour'], hours ,alpha=.7, label=type, color='yellow')\n",
    "            else:\n",
    "                ax[i,0].hist(timing_tweets_pd[(timing_tweets_pd['user.screen_name']==account_list[i])&(timing_tweets_pd['source']==type)]['hour'], hours ,alpha=.7, label=type, color='grey')\n",
    "            ax[i,0].legend()\n",
    "            ax[i,0].set_title(account_list[i], fontsize=12)\n",
    "           # plt.title(r\"\\href{http://www.google.com}{This title links to google}\", color='gray')\n",
    "\n",
    "        Hashtag_Combined = \" \".join(timing_tweets_pd[(timing_tweets_pd['user.screen_name']==account_list[i])&(timing_tweets_pd['hashtags'].astype(str)!='[]')]['hashtags'].astype(str))\n",
    "        \n",
    "        if Hashtag_Combined!='':\n",
    "            try:\n",
    "                wc.generate(Hashtag_Combined)\n",
    "                ax[i,1].imshow(wc, interpolation=\"bilinear\")\n",
    "                ax[i,1].axis(\"off\")\n",
    "            except ValueError:\n",
    "                print('No Hash')\n",
    "        ax[i,1].set_title('D: '+str(days[i])+\" T: \"+str(tweets[i])+\" F: \"+str(fols[i])+\" Odd: \"+str(odd[i]), fontsize=12)\n",
    "      \n",
    "        \n",
    "        \n",
    "    plt.savefig(stem+'_screen3_'+str(j)+'.png')"
   ]
  },
  {
   "cell_type": "code",
   "execution_count": null,
   "metadata": {},
   "outputs": [],
   "source": []
  }
 ],
 "metadata": {
  "kernelspec": {
   "display_name": "Python 3 (Anaconda 2019.10)",
   "language": "python",
   "name": "anaconda3-2019.10"
  },
  "language_info": {
   "codemirror_mode": {
    "name": "ipython",
    "version": 3
   },
   "file_extension": ".py",
   "mimetype": "text/x-python",
   "name": "python",
   "nbconvert_exporter": "python",
   "pygments_lexer": "ipython3",
   "version": "3.7.4"
  }
 },
 "nbformat": 4,
 "nbformat_minor": 4
}
