{
 "cells": [
  {
   "cell_type": "code",
   "execution_count": null,
   "metadata": {},
   "outputs": [],
   "source": [
    "import http\n",
    "from http import client\n",
    "import csv\n",
    "import re\n",
    "import datetime\n",
    "import numpy as np\n",
    "from math import floor"
   ]
  },
  {
   "cell_type": "code",
   "execution_count": null,
   "metadata": {},
   "outputs": [],
   "source": [
    "import matplotlib.pyplot as plt\n",
    "import matplotlib.dates as mdates\n",
    "import matplotlib.ticker as ticker\n",
    "from matplotlib.gridspec import GridSpec\n",
    "import random\n",
    "%matplotlib inline"
   ]
  },
  {
   "cell_type": "code",
   "execution_count": null,
   "metadata": {},
   "outputs": [],
   "source": [
    "SMALL_SIZE = 10\n",
    "MEDIUM_SIZE = 18\n",
    "BIGGER_SIZE = 24\n",
    "\n",
    "plt.rc('font', size=MEDIUM_SIZE)          # controls default text sizes\n",
    "plt.rc('axes', titlesize=BIGGER_SIZE)     # fontsize of the axes title\n",
    "plt.rc('axes', labelsize=MEDIUM_SIZE)    # fontsize of the x and y labels\n",
    "plt.rc('xtick', labelsize=SMALL_SIZE)    # fontsize of the tick labels\n",
    "plt.rc('ytick', labelsize=SMALL_SIZE)    # fontsize of the tick labels\n",
    "plt.rc('legend', fontsize=SMALL_SIZE)    # legend fontsize\n",
    "#plt.rc('figure', titlesize=BIGGER_SIZE)  # fontsize of the figure title\n"
   ]
  },
  {
   "cell_type": "code",
   "execution_count": null,
   "metadata": {},
   "outputs": [],
   "source": [
    "plt.rcParams.keys()"
   ]
  },
  {
   "cell_type": "code",
   "execution_count": null,
   "metadata": {},
   "outputs": [],
   "source": [
    "import pandas as pd\n"
   ]
  },
  {
   "cell_type": "code",
   "execution_count": null,
   "metadata": {},
   "outputs": [],
   "source": [
    "pd.set_option('display.max_colwidth', -1)\n",
    "pd.set_option('display.max_rows', 5000)\n",
    "pd.set_option('display.max_columns', 5000)"
   ]
  },
  {
   "cell_type": "code",
   "execution_count": null,
   "metadata": {},
   "outputs": [],
   "source": [
    "def get_hashtags(s):\n",
    "    return [i  for i in s.split() if i.startswith(\"#\") ]"
   ]
  },
  {
   "cell_type": "code",
   "execution_count": null,
   "metadata": {},
   "outputs": [],
   "source": [
    "from wordcloud import WordCloud,STOPWORDS\n",
    "\n",
    "stopwords= set(STOPWORDS)\n",
    "\n",
    "new_stopwords=stopwords.union({'RT\\'','Follow\\'', 'https','co','amp'})\n",
    "wc = WordCloud(width=800, \n",
    "               height=400,\n",
    "               max_font_size=100, \n",
    "               max_words=40,\n",
    "               stopwords=new_stopwords,\n",
    "               background_color='black',\n",
    "               normalize_plurals= True,\n",
    "              collocations=False)"
   ]
  },
  {
   "cell_type": "markdown",
   "metadata": {},
   "source": [
    "## Load Data"
   ]
  },
  {
   "cell_type": "code",
   "execution_count": null,
   "metadata": {},
   "outputs": [],
   "source": [
    "#/home/pwarren/china/hashed_2020_05_china_052020_china_052020_tweets_csv_hashed.zip\n"
   ]
  },
  {
   "cell_type": "code",
   "execution_count": null,
   "metadata": {},
   "outputs": [],
   "source": [
    "cd /scratch2/pwarren/accounts/"
   ]
  },
  {
   "cell_type": "code",
   "execution_count": null,
   "metadata": {},
   "outputs": [],
   "source": [
    "stem='zeinaab_network'\n",
    "dates=['birth_Sep27','2_birth_Oct1']"
   ]
  },
  {
   "cell_type": "code",
   "execution_count": null,
   "metadata": {},
   "outputs": [],
   "source": [
    "#cd /home/pwarren/local_trolls/Russia_releases/June_2020/\n",
    "#stem='russia_052020_tweets_csv_hashed'"
   ]
  },
  {
   "cell_type": "code",
   "execution_count": null,
   "metadata": {},
   "outputs": [],
   "source": []
  },
  {
   "cell_type": "code",
   "execution_count": null,
   "metadata": {},
   "outputs": [],
   "source": [
    "sandbox=pd.read_csv('/home/pwarren/china/hashed_2020_05_china_052020_china_052020_tweets_csv_hashed.zip')"
   ]
  },
  {
   "cell_type": "code",
   "execution_count": null,
   "metadata": {},
   "outputs": [],
   "source": [
    "dates=['1','2']"
   ]
  },
  {
   "cell_type": "code",
   "execution_count": null,
   "metadata": {},
   "outputs": [],
   "source": [
    "sandbox=pd.DataFrame()\n",
    "for date in dates:\n",
    "    sandbox=sandbox.append(pd.read_csv(stem+'_'+date+'.csv'))"
   ]
  },
  {
   "cell_type": "code",
   "execution_count": null,
   "metadata": {},
   "outputs": [],
   "source": [
    "sandbox=pd.read_csv(stem+'_full.csv')"
   ]
  },
  {
   "cell_type": "code",
   "execution_count": null,
   "metadata": {},
   "outputs": [],
   "source": [
    "years = mdates.YearLocator()   # every year\n",
    "months = mdates.MonthLocator()  # every month\n",
    "days = mdates.DayLocator()  # every month\n",
    "hours = mdates.HourLocator()  # every month\n",
    "yearsFmt = mdates.DateFormatter('%Y')"
   ]
  },
  {
   "cell_type": "code",
   "execution_count": null,
   "metadata": {},
   "outputs": [],
   "source": [
    "sandbox.shape"
   ]
  },
  {
   "cell_type": "code",
   "execution_count": null,
   "metadata": {},
   "outputs": [],
   "source": [
    "sandbox['lower_hashtags']=sandbox['CONTENT'].astype(str).replace('\\,|\\.', '',regex=True).apply(get_hashtags)"
   ]
  },
  {
   "cell_type": "code",
   "execution_count": null,
   "metadata": {},
   "outputs": [],
   "source": [
    "sandbox['datetime']=pd.to_datetime(sandbox['tweet_time'], format=\"%Y-%m-%d %H:%M\")\n",
    "sandbox['date']=sandbox['datetime'].dt.normalize()\n"
   ]
  },
  {
   "cell_type": "code",
   "execution_count": null,
   "metadata": {},
   "outputs": [],
   "source": [
    "sandbox['is_reply']=sandbox['in_reply_to_userid'].notnull()\n",
    "sandbox['is_ext_rt']=(sandbox['retweet_userid'].isnull())&(sandbox['is_retweet'])\n",
    "sandbox['int_rt']=(sandbox['retweet_userid'].notnull())&(sandbox['is_retweet'])\n"
   ]
  },
  {
   "cell_type": "markdown",
   "metadata": {},
   "source": [
    "### Account-level facts, like Language and Birth"
   ]
  },
  {
   "cell_type": "code",
   "execution_count": null,
   "metadata": {},
   "outputs": [],
   "source": [
    "sandbox['tweet_language'].value_counts().head(10)"
   ]
  },
  {
   "cell_type": "code",
   "execution_count": null,
   "metadata": {},
   "outputs": [],
   "source": [
    "top_lang=sandbox['tweet_language'].value_counts().index[0]"
   ]
  },
  {
   "cell_type": "code",
   "execution_count": null,
   "metadata": {},
   "outputs": [],
   "source": [
    "sandbox['is_english']=sandbox['tweet_language']=='en'\n",
    "sandbox['is_top_lang']=sandbox['tweet_language']==top_lang\n"
   ]
  },
  {
   "cell_type": "code",
   "execution_count": null,
   "metadata": {},
   "outputs": [],
   "source": [
    "sandbox.head(1)"
   ]
  },
  {
   "cell_type": "code",
   "execution_count": null,
   "metadata": {},
   "outputs": [],
   "source": [
    "frac_eng_birth=sandbox.groupby('userid').agg({'is_english':'mean','date':'min','is_top_lang':'mean','tweetid':'count'}).rename(columns={'is_english':'pct_english','date':'birthday','is_top_lang':'pct_top_lang','tweetid':'tweet_count'})\n",
    "sandbox=sandbox.merge(frac_eng_birth ,on='userid', how='left')"
   ]
  },
  {
   "cell_type": "code",
   "execution_count": null,
   "metadata": {},
   "outputs": [],
   "source": [
    "sandbox['days_from_birth']=((sandbox['date']-sandbox['birthday'])/np.timedelta64(1, 'D'))\n"
   ]
  },
  {
   "cell_type": "code",
   "execution_count": null,
   "metadata": {},
   "outputs": [],
   "source": [
    "sandbox['days_from_birth'].hist()"
   ]
  },
  {
   "cell_type": "code",
   "execution_count": null,
   "metadata": {},
   "outputs": [],
   "source": [
    "frac_eng_birth['pct_english'].hist()"
   ]
  },
  {
   "cell_type": "code",
   "execution_count": null,
   "metadata": {},
   "outputs": [],
   "source": [
    "frac_eng_birth['pct_top_lang'].hist()"
   ]
  },
  {
   "cell_type": "code",
   "execution_count": null,
   "metadata": {},
   "outputs": [],
   "source": [
    "frac_eng_birth['birthday'].hist(bins=100)\n"
   ]
  },
  {
   "cell_type": "code",
   "execution_count": null,
   "metadata": {},
   "outputs": [],
   "source": [
    "sandbox.index=sandbox['datetime']"
   ]
  },
  {
   "cell_type": "markdown",
   "metadata": {},
   "source": [
    "### Creation and Output over Time"
   ]
  },
  {
   "cell_type": "code",
   "execution_count": null,
   "metadata": {},
   "outputs": [],
   "source": [
    "fig, ax=plt.subplots(3,2,figsize=(15,10))\n",
    "\n",
    "ax[0,0].hist(frac_eng_birth['birthday'], bins=floor(len(frac_eng_birth['birthday'])/10), color='black')\n",
    "ax[0,1].hist(frac_eng_birth[frac_eng_birth['pct_top_lang']>.6]['birthday'] , bins=floor(len(frac_eng_birth['birthday'])/10), color='red')\n",
    "ax[1,0].hist(frac_eng_birth[frac_eng_birth['pct_english']>.2]['birthday'], bins=floor(len(frac_eng_birth['birthday'])/10), color='blue')\n",
    "ax[1,1].hist(frac_eng_birth[(frac_eng_birth['pct_english']<.2)&(frac_eng_birth['pct_top_lang']<.6)]['birthday'], bins=floor(len(frac_eng_birth['birthday'])/10) ,color='green')\n",
    "ax[2,0].hist(frac_eng_birth[(frac_eng_birth['tweet_count']<100)]['birthday'], bins=floor(len(frac_eng_birth['birthday'])/10), color='lightgrey')\n",
    "ax[2,1].hist(frac_eng_birth[(frac_eng_birth['tweet_count']>1000)]['birthday'], bins=floor(len(frac_eng_birth['birthday'])/10), color='grey')\n",
    "\n",
    "ax[0,0].set_title('First Tweet Date', fontsize=14)\n",
    "ax[0,1].set_title('First Tweet Date, Top Language Accounts', fontsize=14)\n",
    "ax[1,0].set_title('First Tweet Date, English Accounts', fontsize=14)\n",
    "ax[1,1].set_title('First Tweet Date, Other Language Accounts', fontsize=14)\n",
    "ax[2,0].set_title('First Tweet Date, <100 Tweet Accounts', fontsize=14)\n",
    "ax[2,1].set_title('First Tweet Date, >1000 Tweet Accounts', fontsize=14)\n",
    "\n",
    "for i in range(0,2):\n",
    "    for j in range(0,3):\n",
    "        ax[j,i].xaxis.set_major_locator(years)\n",
    "        ax[j,i].xaxis.set_minor_locator(months)\n",
    "\n",
    "        ax[j,i].xaxis.set_major_formatter(mdates.DateFormatter('%Y'))\n",
    "        #ax[j,i].xaxis.set_minor_formatter(mdates.DateFormatter('%m'))\n"
   ]
  },
  {
   "cell_type": "code",
   "execution_count": null,
   "metadata": {},
   "outputs": [],
   "source": [
    "graphtemp_en=sandbox[sandbox['tweet_language']=='en'][['tweetid','tweet_language']].resample('W').agg({'tweetid':'count'})\n",
    "graphtemp_zh=sandbox[sandbox['tweet_language']==top_lang][['tweetid','tweet_language']].resample('W').agg({'tweetid':'count'})\n",
    "graphtemp_und=sandbox[sandbox['pct_english']>.2][['tweetid','tweet_language']].resample('W').agg({'tweetid':'count'})\n",
    "\n",
    "\n",
    "fig, ax=plt.subplots(figsize=(15,6))\n",
    "\n",
    "ax.plot(graphtemp_en,alpha=.7,color='blue')\n",
    "ax.plot(graphtemp_zh,alpha=.7,color='red')\n",
    "ax.plot(graphtemp_und,alpha=.7,color='grey')\n",
    "\n",
    "\n",
    "ax.xaxis.set_major_locator(years)\n",
    "ax.xaxis.set_minor_locator(months)\n",
    "\n",
    "ax.xaxis.set_major_formatter(mdates.DateFormatter('\\n%Y'))\n",
    "ax.xaxis.set_minor_formatter(mdates.DateFormatter('%m'))\n",
    "\n",
    "\n",
    "ax.tick_params(axis='both', which='major', labelsize=20)\n",
    "plt.legend(['English',top_lang, '>20% Eng'], fontsize='medium')\n",
    "plt.title('Total Weekly Output')\n",
    "plt.show()"
   ]
  },
  {
   "cell_type": "code",
   "execution_count": null,
   "metadata": {},
   "outputs": [],
   "source": [
    "graphtemp_en=sandbox[sandbox['tweet_language']=='en'][['tweetid','tweet_language']].resample('W').agg({'tweetid':'count'})\n",
    "#graphtemp_zh=sandbox[sandbox['tweet_language']=='tr'][['tweetid','tweet_language']].resample('W').agg({'tweetid':'count'})\n",
    "#graphtemp_und=sandbox[sandbox['pct_english']>.2][['tweetid','tweet_language']].resample('W').agg({'tweetid':'count'})\n",
    "\n",
    "\n",
    "fig, ax=plt.subplots(figsize=(15,6))\n",
    "\n",
    "ax.plot(graphtemp_en,alpha=.7,color='blue')\n",
    "#ax.plot(graphtemp_zh,alpha=.7,color='red')\n",
    "#ax.plot(graphtemp_und,alpha=.7,color='grey')\n",
    "\n",
    "\n",
    "ax.xaxis.set_major_locator(years)\n",
    "ax.xaxis.set_minor_locator(months)\n",
    "\n",
    "ax.xaxis.set_major_formatter(mdates.DateFormatter('\\n%Y'))\n",
    "ax.xaxis.set_minor_formatter(mdates.DateFormatter('%m'))\n",
    "\n",
    "\n",
    "ax.tick_params(axis='both', which='major', labelsize=20)\n",
    "plt.legend(['English','tr', '>20% Eng'], fontsize='medium')\n",
    "plt.title('Total Weekly Output')\n",
    "plt.show()"
   ]
  },
  {
   "cell_type": "code",
   "execution_count": null,
   "metadata": {
    "scrolled": true
   },
   "outputs": [],
   "source": [
    "#graphtemp_en=sandbox[(sandbox['tweet_language']=='en')&(sandbox['datetime']>'2019-01-01')][['tweetid','tweet_language']].resample('D').agg({'tweetid':'count'})\n",
    "graphtemp_zh=sandbox[(sandbox['tweet_language']==top_lang)&(sandbox['datetime']>'2019-01-01')][['tweetid','tweet_language']].resample('D').agg({'tweetid':'count'})\n",
    "#graphtemp_und=sandbox[(sandbox['pct_english']>.2)&(sandbox['datetime']>'2020-01-01')][['tweetid','tweet_language']].resample('D').agg({'tweetid':'count'})\n",
    "\n",
    "\n",
    "fig, ax=plt.subplots(figsize=(15,6))\n",
    "\n",
    "#ax.plot(graphtemp_en,alpha=.7,color='blue')\n",
    "ax.plot(graphtemp_zh,alpha=.7,color='red')\n",
    "#ax.plot(graphtemp_und,alpha=.7,color='grey')\n",
    "\n",
    "\n",
    "ax.xaxis.set_major_locator(years)\n",
    "ax.xaxis.set_minor_locator(months)\n",
    "\n",
    "ax.xaxis.set_major_formatter(mdates.DateFormatter('\\n%Y'))\n",
    "ax.xaxis.set_minor_formatter(mdates.DateFormatter('%m'))\n",
    "\n",
    "\n",
    "ax.tick_params(axis='both', which='major', labelsize=20)\n",
    "plt.legend([top_lang], fontsize='medium')\n",
    "plt.title('Total Daily Output- Zoom in ')\n",
    "plt.show()"
   ]
  },
  {
   "cell_type": "code",
   "execution_count": null,
   "metadata": {
    "scrolled": true
   },
   "outputs": [],
   "source": [
    "graphtemp_en=sandbox[(sandbox['tweet_language']=='en')&(sandbox['datetime']>'2019-01-01')][['tweetid','tweet_language']].resample('D').agg({'tweetid':'count'})\n",
    "#graphtemp_zh=sandbox[(sandbox['tweet_language']=='tr')&(sandbox['datetime']>'2020-01-01')][['tweetid','tweet_language']].resample('D').agg({'tweetid':'count'})\n",
    "#graphtemp_und=sandbox[(sandbox['pct_english']>.2)&(sandbox['datetime']>'2020-01-01')][['tweetid','tweet_language']].resample('D').agg({'tweetid':'count'})\n",
    "\n",
    "\n",
    "fig, ax=plt.subplots(figsize=(15,6))\n",
    "\n",
    "ax.plot(graphtemp_en,alpha=.7,color='blue')\n",
    "#ax.plot(graphtemp_zh,alpha=.7,color='red')\n",
    "#ax.plot(graphtemp_und,alpha=.7,color='grey')\n",
    "\n",
    "\n",
    "ax.xaxis.set_major_locator(years)\n",
    "ax.xaxis.set_minor_locator(months)\n",
    "\n",
    "ax.xaxis.set_major_formatter(mdates.DateFormatter('\\n%Y'))\n",
    "ax.xaxis.set_minor_formatter(mdates.DateFormatter('%m'))\n",
    "\n",
    "\n",
    "ax.tick_params(axis='both', which='major', labelsize=20)\n",
    "plt.legend(['English','tr', '>20% Eng'], fontsize='medium')\n",
    "plt.title('Total Daily Output- Zoom in ')\n",
    "plt.show()"
   ]
  },
  {
   "cell_type": "code",
   "execution_count": null,
   "metadata": {},
   "outputs": [],
   "source": [
    "graphtemp_en=sandbox[sandbox['tweet_language']=='en'][['int_rt','tweet_language']].resample('W').agg({'int_rt':'mean'})\n",
    "graphtemp_zh=sandbox[sandbox['tweet_language']==top_lang][['int_rt','tweet_language']].resample('W').agg({'int_rt':'mean'})\n",
    "graphtemp_und=sandbox[(sandbox['pct_english']>.2)][['int_rt','tweet_language']].resample('W').agg({'int_rt':'mean'})\n",
    "\n",
    "\n",
    "fig, ax=plt.subplots(figsize=(15,6))\n",
    "\n",
    "ax.plot(graphtemp_en,alpha=.7,color='blue')\n",
    "ax.plot(graphtemp_zh,alpha=.7,color='red')\n",
    "ax.plot(graphtemp_und,alpha=.7,color='grey')\n",
    "\n",
    "\n",
    "ax.xaxis.set_major_locator(years)\n",
    "ax.xaxis.set_minor_locator(months)\n",
    "\n",
    "ax.xaxis.set_major_formatter(mdates.DateFormatter('\\n%Y'))\n",
    "ax.xaxis.set_minor_formatter(mdates.DateFormatter('%m'))\n",
    "\n",
    "\n",
    "ax.tick_params(axis='both', which='major', labelsize=20)\n",
    "plt.legend(['English',top_lang, '>20% Eng'], fontsize='medium')\n",
    "plt.title('Internal RT')\n",
    "plt.show()"
   ]
  },
  {
   "cell_type": "code",
   "execution_count": null,
   "metadata": {},
   "outputs": [],
   "source": [
    "graphtemp_en=sandbox[sandbox['tweet_language']=='en'][['is_reply','tweet_language']].resample('W').agg({'is_reply':'mean'})\n",
    "graphtemp_zh=sandbox[sandbox['tweet_language']==top_lang][['is_reply','tweet_language']].resample('W').agg({'is_reply':'mean'})\n",
    "graphtemp_und=sandbox[(sandbox['pct_english']>.2)][['is_reply','tweet_language']].resample('W').agg({'is_reply':'mean'})\n",
    "\n",
    "\n",
    "fig, ax=plt.subplots(figsize=(15,6))\n",
    "\n",
    "ax.plot(graphtemp_en,alpha=.7,color='blue')\n",
    "ax.plot(graphtemp_zh,alpha=.7,color='red')\n",
    "ax.plot(graphtemp_und,alpha=.7,color='grey')\n",
    "\n",
    "\n",
    "ax.xaxis.set_major_locator(years)\n",
    "ax.xaxis.set_minor_locator(months)\n",
    "\n",
    "ax.xaxis.set_major_formatter(mdates.DateFormatter('\\n%Y'))\n",
    "ax.xaxis.set_minor_formatter(mdates.DateFormatter('%m'))\n",
    "\n",
    "\n",
    "ax.tick_params(axis='both', which='major', labelsize=20)\n",
    "plt.legend(['English',top_lang, '>20%'], fontsize='medium')\n",
    "plt.title('Reply Share')\n",
    "plt.show()"
   ]
  },
  {
   "cell_type": "code",
   "execution_count": null,
   "metadata": {},
   "outputs": [],
   "source": [
    "graphtemp_en=sandbox[sandbox['tweet_language']=='en'][['is_ext_rt','tweet_language']].resample('W').agg({'is_ext_rt':'mean'})\n",
    "graphtemp_zh=sandbox[sandbox['tweet_language']==top_lang][['is_ext_rt','tweet_language']].resample('W').agg({'is_ext_rt':'mean'})\n",
    "graphtemp_und=sandbox[(sandbox['pct_english']>.2)][['is_ext_rt','tweet_language']].resample('W').agg({'is_ext_rt':'mean'})\n",
    "\n",
    "\n",
    "fig, ax=plt.subplots(figsize=(15,6))\n",
    "\n",
    "ax.plot(graphtemp_en,alpha=.7,color='blue')\n",
    "ax.plot(graphtemp_zh,alpha=.7,color='red')\n",
    "ax.plot(graphtemp_und,alpha=.7,color='grey')\n",
    "\n",
    "\n",
    "ax.xaxis.set_major_locator(years)\n",
    "ax.xaxis.set_minor_locator(months)\n",
    "\n",
    "ax.xaxis.set_major_formatter(mdates.DateFormatter('\\n%Y'))\n",
    "ax.xaxis.set_minor_formatter(mdates.DateFormatter('%m'))\n",
    "\n",
    "\n",
    "ax.tick_params(axis='both', which='major', labelsize=20)\n",
    "plt.legend(['English',top_lang, '>20%'], fontsize='medium')\n",
    "plt.title('(Maybe) External Retweet Share')\n",
    "\n",
    "\n",
    "plt.show()"
   ]
  },
  {
   "cell_type": "code",
   "execution_count": null,
   "metadata": {},
   "outputs": [],
   "source": [
    "sandbox.columns"
   ]
  },
  {
   "cell_type": "code",
   "execution_count": null,
   "metadata": {},
   "outputs": [],
   "source": [
    "sandbox[sandbox['tweet_language']=='und']['account_language'].value_counts()"
   ]
  },
  {
   "cell_type": "code",
   "execution_count": null,
   "metadata": {},
   "outputs": [],
   "source": [
    "from wordcloud import WordCloud,STOPWORDS\n",
    "\n",
    "stopwords= set(STOPWORDS)\n",
    "\n",
    "new_stopwords=stopwords.union({'RT\\'','Follow\\'', 'https','co','amp'})\n",
    "wc = WordCloud(width=800, \n",
    "               height=400,\n",
    "               max_font_size=100, \n",
    "               max_words=40,\n",
    "               stopwords=new_stopwords,\n",
    "               background_color='black',\n",
    "               normalize_plurals= True,\n",
    "              collocations=False)\n",
    "\n",
    "Hashtag_Combined = \" \".join(sandbox['lower_hashtags'].astype(str))\n",
    "\n",
    "wc.generate(Hashtag_Combined)\n",
    "plt.figure(figsize=(15,15))\n",
    "plt.imshow(wc, interpolation=\"bilinear\")\n",
    "plt.axis(\"off\")\n",
    "plt.title('Dominant Hashtags')\n",
    "\n",
    "#Show the wordcloud\n",
    "plt.show()"
   ]
  },
  {
   "cell_type": "code",
   "execution_count": null,
   "metadata": {},
   "outputs": [],
   "source": [
    "Hashtag_Combined = \" \".join(sandbox[sandbox['tweet_language']=='en']['hashtags'].astype(str))\n",
    "\n",
    "wc.generate(Hashtag_Combined)\n",
    "plt.figure(figsize=(15,15))\n",
    "plt.imshow(wc, interpolation=\"bilinear\")\n",
    "plt.axis(\"off\")\n",
    "\n",
    "plt.title('Dominant Hashtags: Tweets Tagged English')\n",
    "\n",
    "#Show the wordcloud\n",
    "plt.show()"
   ]
  },
  {
   "cell_type": "code",
   "execution_count": null,
   "metadata": {},
   "outputs": [],
   "source": [
    "Hashtag_Combined = \" \".join(sandbox[sandbox['tweet_language']==top_lang]['hashtags'].astype(str))\n",
    "\n",
    "wc.generate(Hashtag_Combined)\n",
    "plt.figure(figsize=(15,15))\n",
    "plt.imshow(wc, interpolation=\"bilinear\")\n",
    "plt.axis(\"off\")\n",
    "\n",
    "plt.title('Dominant Hashtags: Tweets Tagged '+top_lang)\n",
    "\n",
    "#Show the wordcloud\n",
    "plt.show()"
   ]
  },
  {
   "cell_type": "code",
   "execution_count": null,
   "metadata": {},
   "outputs": [],
   "source": [
    "Hashtag_Combined = \" \".join(sandbox[sandbox['pct_english']>.2]['hashtags'].astype(str))\n",
    "\n",
    "wc.generate(Hashtag_Combined)\n",
    "plt.figure(figsize=(15,15))\n",
    "plt.imshow(wc, interpolation=\"bilinear\")\n",
    "plt.axis(\"off\")\n",
    "\n",
    "#Show the wordcloud\n",
    "plt.title('Dominant Hashtags: Accounts with >20% Tweets Tagged English')\n",
    "\n",
    "plt.show()"
   ]
  },
  {
   "cell_type": "markdown",
   "metadata": {},
   "source": [
    "## Hour and Day of Week"
   ]
  },
  {
   "cell_type": "code",
   "execution_count": null,
   "metadata": {},
   "outputs": [],
   "source": [
    "sandbox['weekday']=sandbox['datetime'].dt.weekday\n",
    "sandbox['hour']=sandbox['datetime'].dt.hour"
   ]
  },
  {
   "cell_type": "code",
   "execution_count": null,
   "metadata": {
    "scrolled": true
   },
   "outputs": [],
   "source": [
    "graphtemp_en=sandbox[sandbox['tweet_language']=='en'][['tweetid','tweet_language','weekday']].groupby('weekday').count()['tweetid']\n",
    "\n",
    "\n",
    "fig, ax=plt.subplots(figsize=(15,6))\n",
    "\n",
    "plt.plot(graphtemp_en,alpha=.7,color='black')\n",
    "\n",
    "\n",
    "#ax.set_ylim([0,7000])\n",
    "\n",
    "\n",
    "ax.tick_params(axis='both', which='major', labelsize=20)\n",
    "ax.tick_params(axis='both', which='minor', labelsize=12)\n",
    "\n",
    "\n",
    "plt.title('English Output by Day of Week , Monday=0')\n",
    "plt.legend(['en', 'zh','>20% en'])\n",
    "plt.show()"
   ]
  },
  {
   "cell_type": "code",
   "execution_count": null,
   "metadata": {
    "scrolled": true
   },
   "outputs": [],
   "source": [
    "graphtemp_zh=sandbox[sandbox['tweet_language']==top_lang][['tweetid','tweet_language','weekday']].groupby('weekday').count()['tweetid']\n",
    "\n",
    "\n",
    "fig, ax=plt.subplots(figsize=(15,6))\n",
    "\n",
    "#plt.plot(graphtemp_en,alpha=.7,color='black')\n",
    "plt.plot(graphtemp_zh,alpha=.7,color='red')\n",
    "#plt.plot(graphtemp_und,alpha=.7,color='grey')\n",
    "\n",
    "\n",
    "#ax.set_ylim([0,70000])\n",
    "\n",
    "\n",
    "ax.tick_params(axis='both', which='major', labelsize=20)\n",
    "ax.tick_params(axis='both', which='minor', labelsize=12)\n",
    "\n",
    "\n",
    "plt.title(top_lang+' Output by Day of Week , Monday=0')\n",
    "plt.legend(['tr'])\n",
    "plt.show()"
   ]
  },
  {
   "cell_type": "code",
   "execution_count": null,
   "metadata": {
    "scrolled": true
   },
   "outputs": [],
   "source": [
    "graphtemp_en=sandbox[sandbox['tweet_language']=='en'][['tweetid','tweet_language','hour']].groupby('hour').count()['tweetid']\n",
    "\n",
    "\n",
    "\n",
    "fig, ax=plt.subplots(figsize=(15,6))\n",
    "\n",
    "plt.plot(graphtemp_en,alpha=.7,color='black')\n",
    "#plt.plot(graphtemp_eh,alpha=.7,color='red')\n",
    "#plt.plot(graphtemp_und,alpha=.7,color='grey')\n",
    "\n",
    "\n",
    "\n",
    "\n",
    "ax.tick_params(axis='both', which='major', labelsize=20)\n",
    "ax.tick_params(axis='both', which='minor', labelsize=12)\n",
    "\n",
    "\n",
    "plt.title(' English Output by Hour of Day , UTC')\n",
    "\n",
    "plt.show()"
   ]
  },
  {
   "cell_type": "code",
   "execution_count": null,
   "metadata": {
    "scrolled": true
   },
   "outputs": [],
   "source": [
    "\n",
    "graphtemp_zh=sandbox[sandbox['tweet_language']==top_lang][['tweetid','tweet_language','hour']].groupby('hour').count()['tweetid']\n",
    "\n",
    "\n",
    "\n",
    "\n",
    "fig, ax=plt.subplots(figsize=(15,6))\n",
    "\n",
    "#plt.plot(graphtemp_en,alpha=.7,color='black')\n",
    "plt.plot(graphtemp_zh,alpha=.7,color='red')\n",
    "#plt.plot(graphtemp_und,alpha=.7,color='grey')\n",
    "\n",
    "\n",
    "#ax.set_ylim([0,4000])\n",
    "\n",
    "\n",
    "ax.tick_params(axis='both', which='major', labelsize=20)\n",
    "ax.tick_params(axis='both', which='minor', labelsize=12)\n",
    "\n",
    "\n",
    "plt.title(top_lang+' Output by Hour of Day , UTC')\n",
    "\n",
    "plt.show()"
   ]
  },
  {
   "cell_type": "code",
   "execution_count": null,
   "metadata": {},
   "outputs": [],
   "source": [
    "sandbox.columns"
   ]
  },
  {
   "cell_type": "code",
   "execution_count": null,
   "metadata": {},
   "outputs": [],
   "source": [
    "sandbox[sandbox['tweet_language']=='en']['tweet_client_name'].value_counts().head(10)"
   ]
  },
  {
   "cell_type": "code",
   "execution_count": null,
   "metadata": {},
   "outputs": [],
   "source": [
    "sandbox[sandbox['tweet_language']==top_lang]['tweet_client_name'].value_counts().head(10)"
   ]
  },
  {
   "cell_type": "code",
   "execution_count": null,
   "metadata": {},
   "outputs": [],
   "source": [
    "sandbox[sandbox['tweet_language']=='und']['tweet_client_name'].value_counts().head(10)"
   ]
  },
  {
   "cell_type": "code",
   "execution_count": null,
   "metadata": {},
   "outputs": [],
   "source": [
    "lang_top_client={}\n",
    "for i in range(0,4):\n",
    "    lang_top_client[i]=sandbox[sandbox['tweet_language']==top_lang]['tweet_client_name'].value_counts().index[i]\n"
   ]
  },
  {
   "cell_type": "code",
   "execution_count": null,
   "metadata": {},
   "outputs": [],
   "source": [
    "eng_top_client={}\n",
    "for i in range(0,4):\n",
    "    eng_top_client[i]=sandbox[sandbox['tweet_language']=='en']['tweet_client_name'].value_counts().index[i]\n"
   ]
  },
  {
   "cell_type": "code",
   "execution_count": null,
   "metadata": {},
   "outputs": [],
   "source": [
    "sandbox['tweet_language'].value_counts().index[0]"
   ]
  },
  {
   "cell_type": "code",
   "execution_count": null,
   "metadata": {
    "scrolled": true
   },
   "outputs": [],
   "source": [
    "graphtemp={}\n",
    "for i in range(0,len(eng_top_client)):\n",
    "    graphtemp[i]=sandbox[(sandbox['tweet_language']=='en')&((sandbox['tweet_client_name']==eng_top_client[i]))][['tweetid','tweet_language','hour']].groupby('hour').count()['tweetid']\n",
    "\n",
    "\n",
    "\n",
    "fig, ax=plt.subplots(figsize=(15,6))\n",
    "for i in range(0,len(eng_top_client)):\n",
    "    ax.plot(graphtemp[i],alpha=.7)\n",
    "\n",
    "\n",
    "#ax.set_ylim([0,4000])\n",
    "\n",
    "\n",
    "ax.tick_params(axis='both', which='major', labelsize=20)\n",
    "ax.tick_params(axis='both', which='minor', labelsize=12)\n",
    "\n",
    "ax.legend(eng_top_client.values())\n",
    "plt.title('Client Usage, English Langauge Output by Hour of Day , UTC')\n",
    "\n",
    "plt.show()"
   ]
  },
  {
   "cell_type": "code",
   "execution_count": null,
   "metadata": {
    "scrolled": true
   },
   "outputs": [],
   "source": [
    "graphtemp={}\n",
    "for i in range(0,len(lang_top_client)):\n",
    "    graphtemp[i]=sandbox[(sandbox['tweet_language']==top_lang)&((sandbox['tweet_client_name']==lang_top_client[i]))][['tweetid','tweet_language','hour']].groupby('hour').count()['tweetid']\n",
    "\n",
    "\n",
    "\n",
    "fig, ax=plt.subplots(figsize=(15,6))\n",
    "for i in range(0,len(lang_top_client)):\n",
    "    ax.plot(graphtemp[i],alpha=.7)\n",
    "\n",
    "\n",
    "#ax.set_ylim([0,4000])\n",
    "\n",
    "\n",
    "ax.tick_params(axis='both', which='major', labelsize=20)\n",
    "ax.tick_params(axis='both', which='minor', labelsize=12)\n",
    "\n",
    "ax.legend(lang_top_client.values())\n",
    "plt.title('Client Usage, Top Langauge Output by Hour of Day , UTC')\n",
    "\n",
    "plt.show()"
   ]
  },
  {
   "cell_type": "markdown",
   "metadata": {},
   "source": [
    "### Lifecycle"
   ]
  },
  {
   "cell_type": "code",
   "execution_count": null,
   "metadata": {},
   "outputs": [],
   "source": [
    "graphtemp_en=sandbox[(sandbox['tweet_language']=='en')&(sandbox['days_from_birth']<200)][['int_rt','tweet_language','days_from_birth']].groupby('days_from_birth').agg({'int_rt':'mean'})\n",
    "graphtemp_zh=sandbox[(sandbox['tweet_language']==top_lang)&(sandbox['days_from_birth']<200)][['int_rt','tweet_language','days_from_birth']].groupby('days_from_birth').agg({'int_rt':'mean'})\n",
    "graphtemp_und=sandbox[(sandbox['pct_english']>.2)&(sandbox['days_from_birth']<200)][['int_rt','tweet_language','days_from_birth']].groupby('days_from_birth').agg({'int_rt':'mean'})\n",
    "\n",
    "\n",
    "fig, ax=plt.subplots(figsize=(15,6))\n",
    "\n",
    "ax.plot(graphtemp_en,alpha=.7,color='blue')\n",
    "ax.plot(graphtemp_zh,alpha=.7,color='red')\n",
    "ax.plot(graphtemp_und,alpha=.7,color='grey')\n",
    "\n",
    "\n",
    "#ax.xaxis.set_major_locator(years)\n",
    "#ax.xaxis.set_minor_locator(months)\n",
    "\n",
    "#ax.xaxis.set_major_formatter(mdates.DateFormatter('\\n%Y'))\n",
    "#ax.xaxis.set_minor_formatter(mdates.DateFormatter('%m'))\n",
    "\n",
    "\n",
    "ax.tick_params(axis='both', which='major', labelsize=20)\n",
    "plt.legend(['English',top_lang, '>20% Eng'], fontsize='medium')\n",
    "plt.title('Internal RT')\n",
    "plt.show()"
   ]
  },
  {
   "cell_type": "code",
   "execution_count": null,
   "metadata": {},
   "outputs": [],
   "source": [
    "graphtemp_en=sandbox[(sandbox['tweet_language']=='en')&(sandbox['days_from_birth']<200)][['is_ext_rt','tweet_language','days_from_birth']].groupby('days_from_birth').agg({'is_ext_rt':'mean'})\n",
    "graphtemp_zh=sandbox[(sandbox['tweet_language']==top_lang)&(sandbox['days_from_birth']<200)][['is_ext_rt','tweet_language','days_from_birth']].groupby('days_from_birth').agg({'is_ext_rt':'mean'})\n",
    "graphtemp_und=sandbox[(sandbox['pct_english']>.2)&(sandbox['days_from_birth']<200)][['is_ext_rt','tweet_language','days_from_birth']].groupby('days_from_birth').agg({'is_ext_rt':'mean'})\n",
    "\n",
    "\n",
    "fig, ax=plt.subplots(figsize=(15,6))\n",
    "\n",
    "ax.plot(graphtemp_en,alpha=.7,color='blue')\n",
    "ax.plot(graphtemp_zh,alpha=.7,color='red')\n",
    "ax.plot(graphtemp_und,alpha=.7,color='grey')\n",
    "\n",
    "\n",
    "#ax.xaxis.set_major_locator(years)\n",
    "#ax.xaxis.set_minor_locator(months)\n",
    "\n",
    "#ax.xaxis.set_major_formatter(mdates.DateFormatter('\\n%Y'))\n",
    "#ax.xaxis.set_minor_formatter(mdates.DateFormatter('%m'))\n",
    "\n",
    "\n",
    "ax.tick_params(axis='both', which='major', labelsize=20)\n",
    "plt.legend(['English',top_lang, '>20% Eng'], fontsize='medium')\n",
    "plt.title('External RT')\n",
    "plt.show()"
   ]
  },
  {
   "cell_type": "code",
   "execution_count": null,
   "metadata": {},
   "outputs": [],
   "source": [
    "graphtemp_en=sandbox[(sandbox['tweet_language']=='en')&(sandbox['days_from_birth']<200)][['is_reply','tweet_language','days_from_birth']].groupby('days_from_birth').agg({'is_reply':'mean'})\n",
    "graphtemp_zh=sandbox[(sandbox['tweet_language']==top_lang)&(sandbox['days_from_birth']<200)][['is_reply','tweet_language','days_from_birth']].groupby('days_from_birth').agg({'is_reply':'mean'})\n",
    "graphtemp_und=sandbox[(sandbox['pct_english']>.2)&(sandbox['days_from_birth']<200)][['is_reply','tweet_language','days_from_birth']].groupby('days_from_birth').agg({'is_reply':'mean'})\n",
    "\n",
    "\n",
    "fig, ax=plt.subplots(figsize=(15,6))\n",
    "\n",
    "ax.plot(graphtemp_en,alpha=.7,color='blue')\n",
    "ax.plot(graphtemp_zh,alpha=.7,color='red')\n",
    "ax.plot(graphtemp_und,alpha=.7,color='grey')\n",
    "\n",
    "\n",
    "#ax.xaxis.set_major_locator(years)\n",
    "#ax.xaxis.set_minor_locator(months)\n",
    "\n",
    "#ax.xaxis.set_major_formatter(mdates.DateFormatter('\\n%Y'))\n",
    "#ax.xaxis.set_minor_formatter(mdates.DateFormatter('%m'))\n",
    "\n",
    "\n",
    "ax.tick_params(axis='both', which='major', labelsize=20)\n",
    "plt.legend(['English',top_lang, '>20% Eng'], fontsize='medium')\n",
    "plt.title('Reply')\n",
    "plt.show()"
   ]
  },
  {
   "cell_type": "code",
   "execution_count": null,
   "metadata": {},
   "outputs": [],
   "source": []
  },
  {
   "cell_type": "code",
   "execution_count": null,
   "metadata": {},
   "outputs": [],
   "source": []
  },
  {
   "cell_type": "markdown",
   "metadata": {},
   "source": [
    "### Our Types"
   ]
  },
  {
   "cell_type": "code",
   "execution_count": null,
   "metadata": {},
   "outputs": [],
   "source": [
    "sandbox['second']=sandbox['datetime'].dt.second\n",
    "\n",
    "sandbox['days_from_birth']=(sandbox['datetime']-sandbox['birthday'])/np.timedelta64(1, 'D')\n",
    "sandbox['follower_per_update']=sandbox['follower_count'].astype('float')/sandbox['tweet_count'].astype('float')\n",
    "sandbox['follower_per_friend']=sandbox['follower_count'].astype('float')/sandbox['following_count'].astype('float')\n",
    "sandbox['tweets_per_day']=sandbox['tweet_count'].astype('float')/sandbox['days_from_birth']\n",
    "sandbox['short_content']=sandbox['tweet_text'].str.replace(r'http.*', 'http')\n",
    "sandbox['word_count'] = sandbox['tweet_text'].str.split().str.len()\n",
    "\n",
    "sandbox['week']=sandbox['datetime'].dt.week\n",
    "sandbox['year']=sandbox['datetime'].dt.year\n",
    "\n",
    "sandbox['year_week']=sandbox['year']*100+sandbox['week']"
   ]
  },
  {
   "cell_type": "code",
   "execution_count": null,
   "metadata": {},
   "outputs": [],
   "source": [
    "sandbox['second'].value_counts()"
   ]
  },
  {
   "cell_type": "code",
   "execution_count": null,
   "metadata": {},
   "outputs": [],
   "source": [
    "repeats=sandbox[sandbox['is_retweet']==False][['tweetid','short_content']].groupby('short_content').agg({'tweetid':'count'}).reset_index().rename(columns={'tweetid':'repeats_count'})\n",
    "sandbox=sandbox.merge(repeats, how='left', on='short_content')"
   ]
  },
  {
   "cell_type": "code",
   "execution_count": null,
   "metadata": {},
   "outputs": [],
   "source": [
    "sandbox.head(1)"
   ]
  },
  {
   "cell_type": "code",
   "execution_count": null,
   "metadata": {},
   "outputs": [],
   "source": [
    "sandbox['user_profile_description'].value_counts(dropna=False).head()"
   ]
  },
  {
   "cell_type": "code",
   "execution_count": null,
   "metadata": {},
   "outputs": [],
   "source": [
    "sandbox['following_count'].hist()"
   ]
  },
  {
   "cell_type": "code",
   "execution_count": null,
   "metadata": {},
   "outputs": [],
   "source": [
    "## Key Tweet/Account Label Definitions:\n",
    "# Egg -- Default Profile Image\n",
    "# First -- Tweet occurs in first second of the minute; indicator of automation.\n",
    "# Flood -- Tweet is from a non-verified user and is an exact duplicate of another tweet and that \n",
    "#          tweet is not duplicated by a verified user\n",
    "# Bot -- Account with more than 320 tweets per day\n",
    "# Baby -- Account with 100 tweets or fewer\n",
    "# Train -- Account with follower count within 10% of  following count, at least 1000 friends, and at least 100 tweets\n",
    "# Troll -- Non-verified user with at least 1000 friends 100 tweets, and \"too many\" followers per tweet >0.75 . \n",
    "\n",
    "\n",
    "sandbox['egg']=(sandbox['user_profile_description'].isnull())&(sandbox['user_reported_location'].isnull())\n",
    "#sandbox['first']=(sandbox['second']==1)\n",
    "sandbox['flood']=((sandbox['is_retweet']==False)\n",
    "                &(sandbox['repeats_count']>2)\n",
    "                &(sandbox['word_count']>2)\n",
    "               )\n",
    "\n",
    "sandbox['repeater']=(sandbox['retweet_count']>sandbox['like_count'])&(sandbox['retweet_count']>5)\n",
    "\n",
    "sandbox['bot']=sandbox['tweets_per_day']>320\n",
    "              \n",
    "sandbox['baby']=(sandbox['tweet_count'].astype('float')<=100) \n",
    "            \n",
    "sandbox['train']=((sandbox['tweet_count'].astype('float')>100) \n",
    "            &(sandbox['following_count'].astype('float')>1000) \n",
    "            &(sandbox['follower_per_friend']>.9)\n",
    "             &(sandbox['follower_per_friend']<1.1)\n",
    "            )\n",
    "sandbox['troll']=((sandbox['tweet_count'].astype('float')>100) \n",
    "            &(sandbox['following_count'].astype('float')>500) \n",
    "            &(sandbox['tweet_count'].astype('float')<10000) \n",
    "            &(sandbox['follower_per_update']>.75) \n",
    "                 )\n",
    "sandbox['any']=sandbox['egg']|sandbox['flood']|sandbox['bot']|sandbox['baby']|sandbox['train']|sandbox['troll']|sandbox['repeater']\n",
    "label_list=['troll' ,'train' ,'baby' ,'bot' , 'flood','egg','any','repeater']"
   ]
  },
  {
   "cell_type": "code",
   "execution_count": null,
   "metadata": {},
   "outputs": [],
   "source": [
    "group_dict={'tweetid':'count'}\n",
    "group_dict['date']='first'\n",
    "for type in label_list:\n",
    "    group_dict[type]='mean'"
   ]
  },
  {
   "cell_type": "code",
   "execution_count": null,
   "metadata": {},
   "outputs": [],
   "source": [
    "weekly_stats=sandbox[label_list+['year_week','tweetid','date']].groupby('year_week').agg(group_dict).rename(columns={'tweetid':'tweet_count'})\n",
    "weekly_stats['log_count']=np.log10(weekly_stats['tweet_count'])\n",
    "weekly_stats.index=weekly_stats['date']"
   ]
  },
  {
   "cell_type": "code",
   "execution_count": null,
   "metadata": {},
   "outputs": [],
   "source": [
    "#Weekly Version\n",
    "min_tweet=30\n",
    "\n",
    "fig, ax=plt.subplots(len(label_list)+1,1,figsize=(20,20))\n",
    "\n",
    "for i in range(0,len(label_list)):\n",
    "        ax[i].plot(weekly_stats[(weekly_stats['tweet_count']>min_tweet)][label_list[i]].sort_index(), alpha=.7, label='Overall')\n",
    "        ax[i].set_title(\"Share \"+label_list[i], fontsize=12)\n",
    "       #ax[i].legend()\n",
    "        ax[i].xaxis.set_major_locator(years)\n",
    "        ax[i].xaxis.set_minor_locator(months)\n",
    "        ax[i].tick_params(axis='both', which='major', labelsize=10)\n",
    "        ax[i].xaxis.set_major_formatter(mdates.DateFormatter('%Y'))\n",
    "\n",
    "ax[len(label_list)].plot(weekly_stats['log_count'].sort_index(), alpha=.7, label='Overall')\n",
    "ax[len(label_list)].xaxis.set_major_locator(years)\n",
    "ax[len(label_list)].xaxis.set_minor_locator(months)\n",
    "ax[len(label_list)].tick_params(axis='both', which='major', labelsize=10)\n",
    "ax[len(label_list)].xaxis.set_major_formatter(mdates.DateFormatter('%Y'))\n",
    "ax[len(label_list)].set_title('Log10(Tweet Count)', fontsize=12)\n",
    "ax[0].legend()\n",
    "\n",
    "fig.tight_layout(pad=.5)\n",
    "#ax[i].set_ylim([0,.2])\n",
    "#plt.savefig('stat_timeline.png')"
   ]
  },
  {
   "cell_type": "code",
   "execution_count": null,
   "metadata": {},
   "outputs": [],
   "source": [
    "weekly_stats_eng=sandbox[sandbox['pct_english']>.2][label_list+['year_week','tweetid','date']].groupby('year_week').agg(group_dict).rename(columns={'tweetid':'tweet_count'})\n",
    "weekly_stats_eng['log_count']=np.log10(weekly_stats_eng['tweet_count'])\n",
    "weekly_stats_eng.index=weekly_stats_eng['date']"
   ]
  },
  {
   "cell_type": "code",
   "execution_count": null,
   "metadata": {},
   "outputs": [],
   "source": [
    "#Weekly Version\n",
    "min_tweet=30\n",
    "\n",
    "fig, ax=plt.subplots(len(label_list)+1,1,figsize=(20,20))\n",
    "\n",
    "for i in range(0,len(label_list)):\n",
    "        ax[i].plot(weekly_stats_eng[(weekly_stats_eng['tweet_count']>min_tweet)][label_list[i]].sort_index(), alpha=.7, label='Overall')\n",
    "        ax[i].plot(weekly_stats[(weekly_stats['tweet_count']>min_tweet)][label_list[i]].sort_index(), alpha=.7, label='Overall')\n",
    "        ax[i].set_title(\"Share \"+label_list[i], fontsize=12)\n",
    "       #ax[i].legend()\n",
    "        ax[i].xaxis.set_major_locator(years)\n",
    "        ax[i].xaxis.set_minor_locator(months)\n",
    "        ax[i].tick_params(axis='both', which='major', labelsize=10)\n",
    "        ax[i].xaxis.set_major_formatter(mdates.DateFormatter('%Y'))\n",
    "\n",
    "ax[len(label_list)].plot(weekly_stats_eng['log_count'].sort_index(), alpha=.7, label='Overall')\n",
    "ax[len(label_list)].plot(weekly_stats['log_count'].sort_index(), alpha=.7, label='Overall')\n",
    "ax[len(label_list)].xaxis.set_major_locator(years)\n",
    "ax[len(label_list)].xaxis.set_minor_locator(months)\n",
    "ax[len(label_list)].tick_params(axis='both', which='major', labelsize=10)\n",
    "ax[len(label_list)].xaxis.set_major_formatter(mdates.DateFormatter('%Y'))\n",
    "ax[len(label_list)].set_title('Log10(Tweet Count)', fontsize=12)\n",
    "ax[0].legend(['English','Full'])\n",
    "\n",
    "fig.tight_layout(pad=.5)\n",
    "#ax[i].set_ylim([0,.2])\n",
    "#plt.savefig('stat_timeline.png')"
   ]
  },
  {
   "cell_type": "code",
   "execution_count": null,
   "metadata": {},
   "outputs": [],
   "source": [
    "#Package for counting\n",
    "import collections\n",
    "\n",
    "\n",
    "# Define the minimum times a hashtag needs to appear in the overall topic in order or on the day to include it in the analysis\n",
    "\n",
    "min_size_week=50\n",
    "min_size_day=50"
   ]
  },
  {
   "cell_type": "code",
   "execution_count": null,
   "metadata": {},
   "outputs": [],
   "source": [
    "sandbox['lower_text']=sandbox['tweet_text'].str.lower()"
   ]
  },
  {
   "cell_type": "code",
   "execution_count": null,
   "metadata": {},
   "outputs": [],
   "source": [
    "sandbox['lower_hashtags']=sandbox['lower_text'].astype(str).replace('\\,|\\.', '',regex=True).apply(get_hashtags)"
   ]
  },
  {
   "cell_type": "code",
   "execution_count": null,
   "metadata": {},
   "outputs": [],
   "source": [
    "hashtags = [x for l in sandbox.lower_hashtags.values for x in l]\n",
    "#Counter object\n",
    "\n",
    "counter = collections.Counter(hashtags)\n"
   ]
  },
  {
   "cell_type": "code",
   "execution_count": null,
   "metadata": {},
   "outputs": [],
   "source": [
    "testtemp=counter.most_common(200)\n",
    "long_convo=[i[0] for i in testtemp if ('#'+stem.lower()!=(str(i[0])))]"
   ]
  },
  {
   "cell_type": "code",
   "execution_count": null,
   "metadata": {},
   "outputs": [],
   "source": [
    "testtemp"
   ]
  },
  {
   "cell_type": "code",
   "execution_count": null,
   "metadata": {},
   "outputs": [],
   "source": [
    "conversations=long_convo[0:5]"
   ]
  },
  {
   "cell_type": "code",
   "execution_count": null,
   "metadata": {},
   "outputs": [],
   "source": [
    "weekly_stats=sandbox[label_list+['year_week','tweetid','date']].groupby('year_week').agg(group_dict).rename(columns={'tweetid':'tweet_count'})\n",
    "weekly_stats['convo']='Overall'\n",
    "for convo in conversations:\n",
    "    convo_screen=sandbox['tweet_text'].str.contains(convo, na=False, case=False)\n",
    "    convo_stats=sandbox[convo_screen][label_list+['year_week','date','tweetid']].groupby('year_week').agg(group_dict).rename(columns={'tweetid':'tweet_count'})\n",
    "    convo_stats['convo']=convo\n",
    "    weekly_stats=weekly_stats.append(convo_stats)\n",
    "\n",
    "weekly_stats['log_count']=np.log(weekly_stats['tweet_count'])\n",
    "weekly_stats.index=weekly_stats['date']"
   ]
  },
  {
   "cell_type": "code",
   "execution_count": null,
   "metadata": {},
   "outputs": [],
   "source": [
    "#Weekly Version\n",
    "min_tweet=30\n",
    "\n",
    "fig, ax=plt.subplots(len(label_list)+1,1,figsize=(20,20))\n",
    "\n",
    "convo_list=weekly_stats['convo'].drop_duplicates().sort_values()\n",
    "for i in range(0,len(label_list)):\n",
    "        for convo in convo_list:\n",
    "            ax[i].plot(weekly_stats[(weekly_stats['convo']==convo)&(weekly_stats['tweet_count']>min_tweet)][label_list[i]].sort_index(), alpha=.7, label=convo)\n",
    "        ax[i].set_title(\"Share \"+label_list[i], fontsize=12)\n",
    "       #ax[i].legend()\n",
    "        ax[i].xaxis.set_major_locator(years)\n",
    "        ax[i].xaxis.set_minor_locator(months)\n",
    "        ax[i].tick_params(axis='both', which='major', labelsize=10)\n",
    "        ax[i].xaxis.set_major_formatter(mdates.DateFormatter('%Y'))\n",
    "\n",
    "for convo in convo_list:\n",
    "    ax[len(label_list)].plot(weekly_stats[weekly_stats['convo']==convo]['log_count'].sort_index(), alpha=.7, label=convo)\n",
    "ax[len(label_list)].xaxis.set_major_locator(years)\n",
    "ax[len(label_list)].xaxis.set_minor_locator(months)\n",
    "ax[len(label_list)].tick_params(axis='both', which='major', labelsize=10)\n",
    "ax[len(label_list)].xaxis.set_major_formatter(mdates.DateFormatter('%Y'))\n",
    "ax[len(label_list)].set_title('Log(Tweet Count)', fontsize=12)\n",
    "ax[0].legend()\n",
    "\n",
    "fig.tight_layout(pad=.5)\n",
    "#ax[i].set_ylim([0,.2])\n",
    "#plt.savefig('stat_timeline.png')"
   ]
  },
  {
   "cell_type": "code",
   "execution_count": null,
   "metadata": {},
   "outputs": [],
   "source": []
  },
  {
   "cell_type": "code",
   "execution_count": null,
   "metadata": {},
   "outputs": [],
   "source": [
    "sandbox.head(1)"
   ]
  },
  {
   "cell_type": "code",
   "execution_count": null,
   "metadata": {},
   "outputs": [],
   "source": []
  }
 ],
 "metadata": {
  "kernelspec": {
   "display_name": "Python 3 (Anaconda 5.1.0)",
   "language": "python",
   "name": "anaconda3-5.1.0"
  },
  "language_info": {
   "codemirror_mode": {
    "name": "ipython",
    "version": 3
   },
   "file_extension": ".py",
   "mimetype": "text/x-python",
   "name": "python",
   "nbconvert_exporter": "python",
   "pygments_lexer": "ipython3",
   "version": "3.6.4"
  }
 },
 "nbformat": 4,
 "nbformat_minor": 4
}
