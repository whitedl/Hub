{
 "cells": [
  {
   "cell_type": "code",
   "execution_count": 2,
   "metadata": {},
   "outputs": [
    {
     "name": "stderr",
     "output_type": "stream",
     "text": [
      "Using United States server backend.\n"
     ]
    }
   ],
   "source": [
    "#Translates User_Reported_Location for mixed language data. Writes data to a CSV file. \n",
    "\n",
    "\"\"\"\n",
    "Translate all languages\n",
    "\"\"\"\n",
    "\n",
    "__version__ = '0.0.2'\n",
    "\n",
    "import os\n",
    "import pandas as pd\n",
    "import json\n",
    "from csv import writer\n",
    "import translators as ts"
   ]
  },
  {
   "cell_type": "code",
   "execution_count": 8,
   "metadata": {},
   "outputs": [],
   "source": [
    "#The account_language_x_campaign.csv was generated in file \"translation.ipynb\"\n",
    "account_language_x_campaign = pd.read_csv('account_language_x_campaign.csv')\n",
    "account_language_x_campaign.info()"
   ]
  },
  {
   "cell_type": "code",
   "execution_count": 10,
   "metadata": {},
   "outputs": [
    {
     "name": "stdout",
     "output_type": "stream",
     "text": [
      "Ji Ji felt lonely, Luo gathered some chicken to raise, chicken is the kind of pheasant from the thorn.The wildcorn is hungry, and Ji Ji will take a chicken in the grain in Bamboo.\n"
     ]
    }
   ],
   "source": [
    "#Quick check of the translator\n",
    "import translators as ts\n",
    "wyw_text = '季姬寂，集鸡，鸡即棘鸡。棘鸡饥叽，季姬及箕稷济鸡。'\n",
    "chs_text = '季姬感到寂寞，罗集了一些鸡来养，鸡是那种出自荆棘丛中的野鸡。野鸡饿了唧唧叫，季姬就拿竹箕中的谷物喂鸡。'\n",
    "html_text = '''\n",
    "<!DOCTYPE html>\n",
    "<html>\n",
    "<head>\n",
    "\t<title>我是标题</title>\n",
    "</head>\n",
    "<body>\n",
    "<p>我是文章《你的父亲》</p>\n",
    "</body>\n",
    "</html>\n",
    "'''\n",
    "# input languages\n",
    "print(ts.google(chs_text)) # default: from_language='auto', to_language='en'\n",
    "## output language_map\n"
   ]
  },
  {
   "cell_type": "code",
   "execution_count": 11,
   "metadata": {},
   "outputs": [
    {
     "name": "stdout",
     "output_type": "stream",
     "text": [
      "('iwUNdDZ25SwNAFwVuMHcZcZSHkPV4qNMKxVbvhIR6cc=', '灣仔, 香港', 'Wan Chai, Hong Kong', 'China', 'zh-cn', 'china')\n",
      "('IBfChzqHTUa3gr1yTPh1niRGDemQ9VsurQyuWSqpsmk=', 'Omaha', 'Omaha', 'United States', 'zh-cn', 'china')\n",
      "('aXLKkUO9ZKXMxgmX8Awpzs4eVnhmiiJFm6tpPoJ6E=', 'Paterson, USA', 'Paterson, USA', 'United States', 'zh-cn', 'china')\n",
      "('umOv9qXXaQ8T2HaONNUO7r917CrCvcRFJE0jpqIxmf0=', 'Yonkers', 'Yonkers', 'United States', 'zh-cn', 'china')\n",
      "('fRGUpMX8vID+fpEZZIGpfPrY4AgorycaxXWlWQxxexY=', 'China', 'China', 'China', 'zh-tw', 'china')\n",
      "('CoSMqyy9zXUK1mZLCTVFtnJ6Uj7Efveo014AKBYakXM=', 'Kyrgyzstan', 'Kyrgyzstan', 'Kyrgyzstan', 'ru', 'china')\n",
      "('LxPu9eaZY365Ujf5nRwkEiFbt+lOJkb+iux23i8u8A=', 'Bakersfield, USA', 'Bakersfield, USA', 'United States', 'zh-cn', 'china')\n",
      "('Un7wZyRhKywbP9phFN3ndw4mflBsfA5lYgb1Sv1HH7U=', 'HONG KONG', 'HONG KONG', 'China', 'zh-cn', 'china')\n",
      "('SJ2dXg4Rn7cOX0NM8X0hG09JD+Hg9BUQJxzGN86ZI=', 'Астрахань, Россия', 'Astrakhan, Russia', 'Russia', 'zh-cn', 'china')\n",
      "('1b+F6QJnme6XHDeRaWxym1bOyWua0u6zMMejB2wPwcE=', 'Seattle', 'Seattle', 'United States', 'zh-tw', 'china')\n",
      "('vVP1304qfZVPRqpibhAYAo97wWJxVgAZ9Df20ZSTIY=', 'Ярославль, Россия', 'Yaroslavl, Russia', 'Russia', 'zh-cn', 'china')\n",
      "('CgeAMQ35ZGfLCT599KyQZZCxBGsaJtempnzvapX39tQ=', 'Minneapolis', 'Minneapolis', 'United States', 'zh-cn', 'china')\n",
      "('wohoUnom+82a97QfBlnKEeIFARIajD2IidpXBnsFwx4=', 'Cincinnati', 'Cincinnati', 'United States', 'zh-cn', 'china')\n",
      "('bZp0FLVdR7nbK7mwMOomW4nImkEpnNEKP+GFY6Cxyr0=', 'Florencio, USA', 'Florencio, USA.', 'United States', 'zh-CN', 'china')\n",
      "('OVT0P0+TkU0uaZK12ymKNVymv95QnwhWodqmImK9Q8s=', '泰國', 'Thailand', 'Thailand', 'zh-tw', 'china')\n",
      "('stUEBBP8al4SoPA9mVIAJl29wWh8UeTvKoSHus0blMc=', 'Murfreesboro, USA', 'Murfreesboro, USA', 'United States', 'zh-cn', 'china')\n",
      "('PK02iSoUjg3M8jgEE3831yG+R+993gGrrrTV7eAAO0=', 'Липецк, Россия', 'Lipetsk, Russia', 'Russia', 'zh-cn', 'china')\n",
      "('4vnsAYirl4ZV7eTaDGyXfDVThEfHeRiU7eEpU0dqQxo=', 'Воронеж, Россия', 'Voronezh, Russia', 'Russia', 'zh-cn', 'china')\n",
      "('OgE4npKQHaJ0cWjTUag4UsF1rywpOuuRiRyZQe3L6lE=', 'Palm Bay', 'Palm Bay', 'United States', 'zh-cn', 'china')\n",
      "('A9YY5CNYcT9RflMrUuIvxmqx+xMSW4LOXn7m0h9Ans=', 'hongkong', 'Hong Kong', 'China', 'zh-cn', 'china')\n",
      "('Pkqg0hdh+Schf3eUFDtmCbhC6Y6iXGwZYTaPawWxqFs=', '新北市, 台灣', 'New North City, Taiwan', 'Taiwan', 'zh-tw', 'china')\n",
      "('LcsWw5XWwM3lCPLYD59DP8Vd3akzHDSiOp0p0bsHQ=', '千叶', 'Chiba', 'Japan', 'zh-CN', 'china')\n",
      "('VgLxJf1onvfGJzhya0pjCWEd9d51eOvkFfW9vMDOBd4=', 'Oshawa, Ontario', 'Oshawa, Ontario', 'Canada', 'zh-cn', 'china')\n",
      "('eQ1Hg0I1IlgHisuMXVi1dvs+spC81NcKbVq8vZkDf5Q=', '澳门', 'Macao', 'China', 'zh-tw', 'china')\n",
      "('3oo8swPpaLLi+4IOTtsWUnjFOOpb3kOJ5YmBDxdoYc=', 'Oakland City', 'Oakland City', 'United States', 'zh-cn', 'china')\n"
     ]
    }
   ],
   "source": [
    "#Translates User_Reported_Location for mixed language data. Writes data to a CSV file\n",
    "\n",
    "#Defines the output file name\n",
    "output_filename = 'account_language_x_campaign_translate.csv'\n",
    "\n",
    "#CSV writer\n",
    "def append_list_as_row(output_filename, translate_detect):\n",
    "    # Open file in append mode\n",
    "    with open(output_filename, 'a+', newline='') as write_obj:\n",
    "        # Create a writer object from csv module\n",
    "        csv_writer = writer(write_obj)\n",
    "        # Add contents of list as last row in the csv file\n",
    "        csv_writer.writerow(translate_detect)\n",
    "\n",
    "#Creates an empty list\n",
    "language_translate = []\n",
    "\n",
    "#Rate Limiter to not get booted from the API (period = seconds)\n",
    "rate_limiter = RateLimiter(max_calls=5, period=60)\n",
    "\n",
    "#Iterates through each row to translate to english. \n",
    "iter_len=len(account_language_x_campaign)\n",
    "for q in range(iter_len):\n",
    "    with rate_limiter:\n",
    "\n",
    "        try:\n",
    "            translate = account_language_x_campaign.user_reported_location_x[q]\n",
    "            translate_detect = (account_language_x_campaign.userid[q], account_language_x_campaign.user_reported_location_x[q], ts.google(translate), account_language_x_campaign.user_country[q], account_language_x_campaign.account_language_x[q], account_language_x_campaign.stem[q])\n",
    "            print(translate_detect)\n",
    "            append_list_as_row(output_filename, translate_detect)\n",
    "        except:\n",
    "            #print('TRANSLATION ERROR')\n",
    "            translate_detect = (account_language_x_campaign.userid[q], account_language_x_campaign.user_reported_location_x[q], 'TRANSLATION ERROR', account_language_x_campaign.user_country[q], account_language_x_campaign.account_language_x[q], account_language_x_campaign.stem[q])\n",
    "            append_list_as_row(output_filename, translate_detect)\n",
    "            continue"
   ]
  }
 ],
 "metadata": {
  "interpreter": {
   "hash": "aee8b7b246df8f9039afb4144a1f6fd8d2ca17a180786b69acc140d282b71a49"
  },
  "kernelspec": {
   "display_name": "Python 3.9.7 64-bit",
   "name": "python3"
  },
  "language_info": {
   "codemirror_mode": {
    "name": "ipython",
    "version": 3
   },
   "file_extension": ".py",
   "mimetype": "text/x-python",
   "name": "python",
   "nbconvert_exporter": "python",
   "pygments_lexer": "ipython3",
   "version": "3.9.7"
  },
  "orig_nbformat": 4
 },
 "nbformat": 4,
 "nbformat_minor": 2
}
